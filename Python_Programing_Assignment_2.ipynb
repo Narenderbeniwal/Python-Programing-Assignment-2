{
  "nbformat": 4,
  "nbformat_minor": 0,
  "metadata": {
    "colab": {
      "name": "Python Programing Assignment 2.ipynb",
      "provenance": [],
      "collapsed_sections": []
    },
    "kernelspec": {
      "name": "python3",
      "display_name": "Python 3"
    },
    "language_info": {
      "name": "python"
    }
  },
  "cells": [
    {
      "cell_type": "code",
      "metadata": {
        "colab": {
          "base_uri": "https://localhost:8080/",
          "height": 130
        },
        "id": "RYfyiP43zfyl",
        "outputId": "2deb10dd-688c-4345-feaa-c7d31072a499"
      },
      "source": [
        "•\tWrite a Python program to convert kilometers to miles?\n",
        "\t•\tWrite a Python program to convert Celsius to Fahrenheit?\n",
        "\t•\tWrite a Python program to display calendar?\n",
        "\t•\tWrite a Python program to solve quadratic equation?\n",
        "\t•\tWrite a Python program to swap two variables without temp variable?\n",
        "\n",
        "\n"
      ],
      "execution_count": null,
      "outputs": [
        {
          "output_type": "error",
          "ename": "IndentationError",
          "evalue": "ignored",
          "traceback": [
            "\u001b[0;36m  File \u001b[0;32m\"<ipython-input-1-6fa5605561bc>\"\u001b[0;36m, line \u001b[0;32m2\u001b[0m\n\u001b[0;31m    get_ipython().set_next_input('\\t•\\tWrite a Python program to convert Celsius to Fahrenheit');get_ipython().magic('pinfo Fahrenheit')\u001b[0m\n\u001b[0m    ^\u001b[0m\n\u001b[0;31mIndentationError\u001b[0m\u001b[0;31m:\u001b[0m unexpected indent\n"
          ]
        }
      ]
    },
    {
      "cell_type": "code",
      "metadata": {
        "colab": {
          "base_uri": "https://localhost:8080/"
        },
        "id": "UrjcNZyM3e7N",
        "outputId": "37cb771d-f0e9-48cc-b667-06287af8d1af"
      },
      "source": [
        "## •\tWrite a Python program to convert kilometers to miles?\n",
        "a = 1.609\n",
        "\n",
        "b = int(input(\"Enter the number of kilometers you want to change in miles\"))\n",
        "n = b/a\n",
        "print(n)"
      ],
      "execution_count": null,
      "outputs": [
        {
          "output_type": "stream",
          "text": [
            "Enter the number of kilometers you want to change in miles24\n",
            "14.916096954630206\n"
          ],
          "name": "stdout"
        }
      ]
    },
    {
      "cell_type": "code",
      "metadata": {
        "id": "qS6s1aGh76W0",
        "colab": {
          "base_uri": "https://localhost:8080/"
        },
        "outputId": "5d4499e6-70a1-44bd-e994-648784a66c94"
      },
      "source": [
        "## •\tWrite a Python program to convert Celsius to Fahrenheit?\n",
        "a = int(input(\"Enter a number you want to conver in Fahrenheit:\" ))\t\n",
        "b = (a * 9/5) + 32 \n",
        "print(a,\"Celsius is equal to\", b, \"Fahrenheit\")"
      ],
      "execution_count": 5,
      "outputs": [
        {
          "output_type": "stream",
          "text": [
            "Enter a number you want to conver in Fahrenheit:34\n",
            "34 Celsius is equal to 93.2 Fahrenheit\n"
          ],
          "name": "stdout"
        }
      ]
    },
    {
      "cell_type": "code",
      "metadata": {
        "colab": {
          "base_uri": "https://localhost:8080/"
        },
        "id": "mMpqQG2y2S3F",
        "outputId": "becb7d5f-4a8a-4959-e87b-c9b3c5542f44"
      },
      "source": [
        "## \tWrite a Python program to display calendar?\n",
        "import calendar\n",
        "yy = int(input(\"Enter year: \"))\n",
        "mm = int(input(\"Enter month: \"))\n",
        "print(calendar. month(yy,mm))\n",
        "\n"
      ],
      "execution_count": 13,
      "outputs": [
        {
          "output_type": "stream",
          "text": [
            "Enter year: 2025\n",
            "Enter month: 12\n",
            "   December 2025\n",
            "Mo Tu We Th Fr Sa Su\n",
            " 1  2  3  4  5  6  7\n",
            " 8  9 10 11 12 13 14\n",
            "15 16 17 18 19 20 21\n",
            "22 23 24 25 26 27 28\n",
            "29 30 31\n",
            "\n"
          ],
          "name": "stdout"
        }
      ]
    },
    {
      "cell_type": "code",
      "metadata": {
        "colab": {
          "base_uri": "https://localhost:8080/"
        },
        "id": "PT6GSzEP3rOC",
        "outputId": "3fd3cafc-03b3-4daa-d504-072d667cace4"
      },
      "source": [
        "## \tWrite a Python program to solve quadratic equation?\n",
        "## ax2 + bx + c\n",
        "#ax2 + bx + c\n",
        "#where,\n",
        "#a, b, and c are coefficient and real numbers and also a ≠ 0.\n",
        "# If a is equal to 0 that equation is not valid quadratic equation.\n",
        "\n",
        "\n",
        "# import complex math module\n",
        "import cmath\n",
        "\n",
        "\n",
        "try:\n",
        "  \n",
        "\n",
        "    a = float(input('Enter a: '))\n",
        "    b = float(input('Enter b: '))\n",
        "    c = float(input('Enter c: '))\n",
        "except :\n",
        "  print(\"Your code have value of a = 0\")\n",
        "\n",
        "# calculate the discriminant\n",
        "d = (b**2) - (4*a*c)\n",
        "\n",
        "# find two solutions\n",
        "try:\n",
        "   sol1 = (-b-cmath.sqrt(d))/(2*a)\n",
        "   sol2 = (-b+cmath.sqrt(d))/(2*a)\n",
        "except:\n",
        "  print(\"complex division by zero error\")\n",
        "\n",
        "print('The solution are {0} and {1}'.format(sol1,sol2))"
      ],
      "execution_count": 31,
      "outputs": [
        {
          "output_type": "stream",
          "text": [
            "Enter a: 67\n",
            "Enter b: 67\n",
            "Enter c: 34\n",
            "The solution are (-0.5-0.5074078109047634j) and (-0.5+0.5074078109047634j)\n"
          ],
          "name": "stdout"
        }
      ]
    },
    {
      "cell_type": "code",
      "metadata": {
        "colab": {
          "base_uri": "https://localhost:8080/"
        },
        "id": "800qaVL46Nr0",
        "outputId": "c341bbf7-8640-4845-a880-924d8546b0f4"
      },
      "source": [
        "##  Write a Python program to swap two variables without temp variable?\n",
        "# Python code to swap two numbers\n",
        "# using Bitwise XOR method\n",
        " \n",
        " \n",
        "x = 5  # x = 0101\n",
        "y = 10 # y = 1010\n",
        " \n",
        "print (\"Before swapping: \")\n",
        "print(\"Value of x : \", x, \" and y : \", y)\n",
        " \n",
        "# Swap code\n",
        "x ^= y # x = 1111, y = 1010\n",
        "y ^= x # y = 0101, x = 1111\n",
        "x ^= y # x = 1010, y = 0101\n",
        " \n",
        "print (\"After swapping: \")\n",
        "print(\"Value of x : \", x, \" and y : \", y)"
      ],
      "execution_count": 35,
      "outputs": [
        {
          "output_type": "stream",
          "text": [
            "Before swapping: \n",
            "Value of x :  5  and y :  10\n",
            "After swapping: \n",
            "Value of x :  10  and y :  5\n"
          ],
          "name": "stdout"
        }
      ]
    },
    {
      "cell_type": "code",
      "metadata": {
        "id": "OSx1piPg-gTa"
      },
      "source": [
        ""
      ],
      "execution_count": 33,
      "outputs": []
    }
  ]
}